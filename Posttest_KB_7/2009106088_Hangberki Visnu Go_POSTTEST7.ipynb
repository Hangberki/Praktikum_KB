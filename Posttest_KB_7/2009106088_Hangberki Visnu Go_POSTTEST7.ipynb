{
 "cells": [
  {
   "cell_type": "markdown",
   "metadata": {},
   "source": [
    "## Import Library"
   ]
  },
  {
   "cell_type": "code",
   "execution_count": 241,
   "metadata": {},
   "outputs": [],
   "source": [
    "import tensorflow as tf"
   ]
  },
  {
   "cell_type": "markdown",
   "metadata": {},
   "source": [
    "Random Tensor"
   ]
  },
  {
   "cell_type": "code",
   "execution_count": 242,
   "metadata": {},
   "outputs": [
    {
     "data": {
      "text/plain": [
       "array([[-1.3108554 , -1.1593145 ,  0.73543155, -1.5630164 , -1.4232419 ],\n",
       "       [-1.7293437 , -0.47802517,  1.234133  , -0.30225113,  0.2919897 ],\n",
       "       [ 0.99688596, -2.0894635 ,  0.06678373,  0.5522131 , -1.9784949 ],\n",
       "       [-1.2640431 ,  0.9884551 ,  0.33365408, -1.7091124 , -0.63588405],\n",
       "       [-0.8078736 ,  0.850547  , -1.4636692 , -0.83810955,  1.3281822 ]],\n",
       "      dtype=float32)"
      ]
     },
     "execution_count": 242,
     "metadata": {},
     "output_type": "execute_result"
    }
   ],
   "source": [
    "random_tensor = tf.random.normal([5,5],mean=0,stddev=1.0, seed = 1)\n",
    "\n",
    "random_tensor.numpy()"
   ]
  },
  {
   "cell_type": "markdown",
   "metadata": {},
   "source": [
    "Prime Tensor"
   ]
  },
  {
   "cell_type": "code",
   "execution_count": 243,
   "metadata": {},
   "outputs": [
    {
     "data": {
      "text/plain": [
       "array([[ 2.,  3.,  5.,  7., 11.],\n",
       "       [13., 17., 19., 23., 29.],\n",
       "       [31., 37., 41., 43., 47.],\n",
       "       [53., 59., 61., 67., 71.],\n",
       "       [73., 79., 83., 89., 97.]], dtype=float32)"
      ]
     },
     "execution_count": 243,
     "metadata": {},
     "output_type": "execute_result"
    }
   ],
   "source": [
    "prime_tensor = tf.constant([2, 3, 5, 7, 11, 13, 17, 19, 23, 29, 31, 37, 41, 43, 47, 53, 59, 61, 67, 71, 73, 79, 83, 89, 97],shape=[5,5], dtype=tf.float32)\n",
    "\n",
    "prime_tensor.numpy()\n"
   ]
  },
  {
   "cell_type": "markdown",
   "metadata": {},
   "source": [
    "## Dimensi"
   ]
  },
  {
   "cell_type": "code",
   "execution_count": 244,
   "metadata": {},
   "outputs": [
    {
     "name": "stdout",
     "output_type": "stream",
     "text": [
      "random_tensor : (5, 5)\n",
      "prime_tensor  : (5, 5)\n"
     ]
    }
   ],
   "source": [
    "print(\"random_tensor :\",random_tensor.shape)\n",
    "print(\"prime_tensor  :\",prime_tensor.shape)"
   ]
  },
  {
   "cell_type": "markdown",
   "metadata": {},
   "source": [
    "## Aritmatika"
   ]
  },
  {
   "cell_type": "markdown",
   "metadata": {},
   "source": [
    "Penambahan"
   ]
  },
  {
   "cell_type": "code",
   "execution_count": 245,
   "metadata": {},
   "outputs": [
    {
     "data": {
      "text/plain": [
       "array([[ 0.6891446,  1.8406855,  5.7354317,  5.4369836,  9.576758 ],\n",
       "       [11.270657 , 16.521975 , 20.234133 , 22.697748 , 29.29199  ],\n",
       "       [31.996885 , 34.910538 , 41.066784 , 43.55221  , 45.021503 ],\n",
       "       [51.73596  , 59.988457 , 61.333652 , 65.290886 , 70.36411  ],\n",
       "       [72.19212  , 79.85055  , 81.53633  , 88.16189  , 98.328186 ]],\n",
       "      dtype=float32)"
      ]
     },
     "execution_count": 245,
     "metadata": {},
     "output_type": "execute_result"
    }
   ],
   "source": [
    "tf.add(random_tensor,prime_tensor).numpy()"
   ]
  },
  {
   "cell_type": "markdown",
   "metadata": {},
   "source": [
    "Pengurangan"
   ]
  },
  {
   "cell_type": "code",
   "execution_count": 246,
   "metadata": {},
   "outputs": [
    {
     "data": {
      "text/plain": [
       "array([[ -3.3108554,  -4.1593146,  -4.2645683,  -8.563017 , -12.423242 ],\n",
       "       [-14.729343 , -17.478025 , -17.765867 , -23.302252 , -28.70801  ],\n",
       "       [-30.003115 , -39.089462 , -40.933216 , -42.44779  , -48.978497 ],\n",
       "       [-54.26404  , -58.011543 , -60.666348 , -68.709114 , -71.63589  ],\n",
       "       [-73.80788  , -78.14945  , -84.46367  , -89.83811  , -95.671814 ]],\n",
       "      dtype=float32)"
      ]
     },
     "execution_count": 246,
     "metadata": {},
     "output_type": "execute_result"
    }
   ],
   "source": [
    "tf.subtract(random_tensor,prime_tensor).numpy()"
   ]
  },
  {
   "cell_type": "markdown",
   "metadata": {},
   "source": [
    "Perkalian"
   ]
  },
  {
   "cell_type": "code",
   "execution_count": 247,
   "metadata": {},
   "outputs": [
    {
     "data": {
      "text/plain": [
       "array([[  -2.6217108,   -3.4779434,    3.6771579,  -10.941114 ,\n",
       "         -15.655661 ],\n",
       "       [ -22.481468 ,   -8.126428 ,   23.448526 ,   -6.951776 ,\n",
       "           8.467702 ],\n",
       "       [  30.903465 ,  -77.31015  ,    2.7381327,   23.745163 ,\n",
       "         -92.98926  ],\n",
       "       [ -66.994286 ,   58.31885  ,   20.3529   , -114.51053  ,\n",
       "         -45.147766 ],\n",
       "       [ -58.974773 ,   67.193214 , -121.48454  ,  -74.59175  ,\n",
       "         128.83368  ]], dtype=float32)"
      ]
     },
     "execution_count": 247,
     "metadata": {},
     "output_type": "execute_result"
    }
   ],
   "source": [
    "tf.multiply(random_tensor,prime_tensor).numpy()"
   ]
  },
  {
   "cell_type": "markdown",
   "metadata": {},
   "source": [
    "Pembagian"
   ]
  },
  {
   "cell_type": "code",
   "execution_count": 248,
   "metadata": {},
   "outputs": [
    {
     "data": {
      "text/plain": [
       "array([[-0.6554277 , -0.38643816,  0.1470863 , -0.22328806, -0.12938562],\n",
       "       [-0.13302644, -0.02811913,  0.06495437, -0.01314135,  0.01006861],\n",
       "       [ 0.03215761, -0.05647198,  0.00162887,  0.01284216, -0.04209564],\n",
       "       [-0.02384987,  0.01675348,  0.00546974, -0.02550914, -0.00895611],\n",
       "       [-0.01106676,  0.01076642, -0.01763457, -0.00941696,  0.0136926 ]],\n",
       "      dtype=float32)"
      ]
     },
     "execution_count": 248,
     "metadata": {},
     "output_type": "execute_result"
    }
   ],
   "source": [
    "tf.divide(random_tensor,prime_tensor).numpy()"
   ]
  },
  {
   "cell_type": "markdown",
   "metadata": {},
   "source": [
    "Pangkat"
   ]
  },
  {
   "cell_type": "code",
   "execution_count": 249,
   "metadata": {},
   "outputs": [
    {
     "data": {
      "text/plain": [
       "array([[ 1.7183418e+00, -1.5581305e+00,  2.1513511e-01, -2.2790024e+01,\n",
       "        -4.8536201e+01],\n",
       "       [-1.2372485e+03, -3.5535545e-06,  5.4434895e+01, -1.1180532e-12,\n",
       "         3.1308267e-16],\n",
       "       [ 9.0784103e-01, -6.9388416e+11,  0.0000000e+00,  8.1393061e-12,\n",
       "        -8.4672378e+13],\n",
       "       [-2.4738856e+05,  5.0403452e-01,  8.3383957e-30, -3.9412319e+15,\n",
       "        -1.0960566e-14],\n",
       "       [-1.7221447e-07,  2.7936223e-06, -5.3921637e+13, -1.4920053e-07,\n",
       "         9.0363540e+11]], dtype=float32)"
      ]
     },
     "execution_count": 249,
     "metadata": {},
     "output_type": "execute_result"
    }
   ],
   "source": [
    "tf.pow(random_tensor,prime_tensor).numpy()"
   ]
  },
  {
   "cell_type": "markdown",
   "metadata": {},
   "source": [
    "## Maksimum"
   ]
  },
  {
   "cell_type": "code",
   "execution_count": 250,
   "metadata": {},
   "outputs": [
    {
     "name": "stdout",
     "output_type": "stream",
     "text": [
      "Maksimum Kolom : [2 3 1 2 4]\n",
      "Maksimum Baris : [2 2 0 1 4]\n"
     ]
    }
   ],
   "source": [
    "print(\"Maksimum Kolom :\",tf.argmax(random_tensor, axis=0).numpy())\n",
    "print(\"Maksimum Baris :\",tf.argmax(random_tensor, axis=1).numpy())"
   ]
  },
  {
   "cell_type": "markdown",
   "metadata": {},
   "source": [
    "## Minimal"
   ]
  },
  {
   "cell_type": "code",
   "execution_count": 251,
   "metadata": {},
   "outputs": [
    {
     "name": "stdout",
     "output_type": "stream",
     "text": [
      "Minimal Kolom : [1 2 4 3 2]\n",
      "Minimal Baris : [3 0 1 3 2]\n"
     ]
    }
   ],
   "source": [
    "print(\"Minimal Kolom :\",tf.argmin(random_tensor, axis=0).numpy())\n",
    "print(\"Minimal Baris :\",tf.argmin(random_tensor, axis=1).numpy())"
   ]
  },
  {
   "cell_type": "markdown",
   "metadata": {},
   "source": [
    "## Concatenation"
   ]
  },
  {
   "cell_type": "markdown",
   "metadata": {},
   "source": [
    "Penggabungan Kolom"
   ]
  },
  {
   "cell_type": "code",
   "execution_count": 252,
   "metadata": {},
   "outputs": [
    {
     "name": "stdout",
     "output_type": "stream",
     "text": [
      "[[-1.3108554e+00 -1.1593145e+00  7.3543155e-01 -1.5630164e+00\n",
      "  -1.4232419e+00]\n",
      " [-1.7293437e+00 -4.7802517e-01  1.2341330e+00 -3.0225113e-01\n",
      "   2.9198971e-01]\n",
      " [ 9.9688596e-01 -2.0894635e+00  6.6783726e-02  5.5221307e-01\n",
      "  -1.9784949e+00]\n",
      " [-1.2640431e+00  9.8845512e-01  3.3365408e-01 -1.7091124e+00\n",
      "  -6.3588405e-01]\n",
      " [-8.0787361e-01  8.5054702e-01 -1.4636692e+00 -8.3810955e-01\n",
      "   1.3281822e+00]\n",
      " [ 2.0000000e+00  3.0000000e+00  5.0000000e+00  7.0000000e+00\n",
      "   1.1000000e+01]\n",
      " [ 1.3000000e+01  1.7000000e+01  1.9000000e+01  2.3000000e+01\n",
      "   2.9000000e+01]\n",
      " [ 3.1000000e+01  3.7000000e+01  4.1000000e+01  4.3000000e+01\n",
      "   4.7000000e+01]\n",
      " [ 5.3000000e+01  5.9000000e+01  6.1000000e+01  6.7000000e+01\n",
      "   7.1000000e+01]\n",
      " [ 7.3000000e+01  7.9000000e+01  8.3000000e+01  8.9000000e+01\n",
      "   9.7000000e+01]]\n"
     ]
    }
   ],
   "source": [
    "concat_row = tf.concat([random_tensor, prime_tensor], axis=0)\n",
    "\n",
    "print(concat_row.numpy())"
   ]
  },
  {
   "cell_type": "markdown",
   "metadata": {},
   "source": [
    "Penggabungan Baris"
   ]
  },
  {
   "cell_type": "code",
   "execution_count": 253,
   "metadata": {},
   "outputs": [
    {
     "name": "stdout",
     "output_type": "stream",
     "text": [
      "[[-1.3108554e+00 -1.1593145e+00  7.3543155e-01 -1.5630164e+00\n",
      "  -1.4232419e+00  2.0000000e+00  3.0000000e+00  5.0000000e+00\n",
      "   7.0000000e+00  1.1000000e+01]\n",
      " [-1.7293437e+00 -4.7802517e-01  1.2341330e+00 -3.0225113e-01\n",
      "   2.9198971e-01  1.3000000e+01  1.7000000e+01  1.9000000e+01\n",
      "   2.3000000e+01  2.9000000e+01]\n",
      " [ 9.9688596e-01 -2.0894635e+00  6.6783726e-02  5.5221307e-01\n",
      "  -1.9784949e+00  3.1000000e+01  3.7000000e+01  4.1000000e+01\n",
      "   4.3000000e+01  4.7000000e+01]\n",
      " [-1.2640431e+00  9.8845512e-01  3.3365408e-01 -1.7091124e+00\n",
      "  -6.3588405e-01  5.3000000e+01  5.9000000e+01  6.1000000e+01\n",
      "   6.7000000e+01  7.1000000e+01]\n",
      " [-8.0787361e-01  8.5054702e-01 -1.4636692e+00 -8.3810955e-01\n",
      "   1.3281822e+00  7.3000000e+01  7.9000000e+01  8.3000000e+01\n",
      "   8.9000000e+01  9.7000000e+01]]\n"
     ]
    }
   ],
   "source": [
    "concat_line = tf.concat([random_tensor, prime_tensor], axis=1)\n",
    "\n",
    "print(concat_line.numpy())"
   ]
  },
  {
   "cell_type": "markdown",
   "metadata": {},
   "source": [
    "## Sorting DESCENDING"
   ]
  },
  {
   "cell_type": "code",
   "execution_count": 254,
   "metadata": {},
   "outputs": [],
   "source": [
    "random = tf.sort(random_tensor, direction=\"DESCENDING\")\n",
    "prime = tf.sort(prime_tensor, direction=\"DESCENDING\")\n"
   ]
  },
  {
   "cell_type": "markdown",
   "metadata": {},
   "source": [
    "random_tensor"
   ]
  },
  {
   "cell_type": "code",
   "execution_count": 255,
   "metadata": {},
   "outputs": [
    {
     "data": {
      "text/plain": [
       "array([[ 0.73543155, -1.1593145 , -1.3108554 , -1.4232419 , -1.5630164 ],\n",
       "       [ 1.234133  ,  0.2919897 , -0.30225113, -0.47802517, -1.7293437 ],\n",
       "       [ 0.99688596,  0.5522131 ,  0.06678373, -1.9784949 , -2.0894635 ],\n",
       "       [ 0.9884551 ,  0.33365408, -0.63588405, -1.2640431 , -1.7091124 ],\n",
       "       [ 1.3281822 ,  0.850547  , -0.8078736 , -0.83810955, -1.4636692 ]],\n",
       "      dtype=float32)"
      ]
     },
     "execution_count": 255,
     "metadata": {},
     "output_type": "execute_result"
    }
   ],
   "source": [
    "random.numpy()"
   ]
  },
  {
   "cell_type": "markdown",
   "metadata": {},
   "source": [
    "prime_tensor"
   ]
  },
  {
   "cell_type": "code",
   "execution_count": 256,
   "metadata": {},
   "outputs": [
    {
     "data": {
      "text/plain": [
       "array([[11.,  7.,  5.,  3.,  2.],\n",
       "       [29., 23., 19., 17., 13.],\n",
       "       [47., 43., 41., 37., 31.],\n",
       "       [71., 67., 61., 59., 53.],\n",
       "       [97., 89., 83., 79., 73.]], dtype=float32)"
      ]
     },
     "execution_count": 256,
     "metadata": {},
     "output_type": "execute_result"
    }
   ],
   "source": [
    "prime.numpy()"
   ]
  }
 ],
 "metadata": {
  "kernelspec": {
   "display_name": "Python 3.10.7 64-bit",
   "language": "python",
   "name": "python3"
  },
  "language_info": {
   "codemirror_mode": {
    "name": "ipython",
    "version": 3
   },
   "file_extension": ".py",
   "mimetype": "text/x-python",
   "name": "python",
   "nbconvert_exporter": "python",
   "pygments_lexer": "ipython3",
   "version": "3.10.7"
  },
  "orig_nbformat": 4,
  "vscode": {
   "interpreter": {
    "hash": "4087901ceae5ce8a9d0dd1d65190ccfabacf301eac98c84b3353bfad995f38a2"
   }
  }
 },
 "nbformat": 4,
 "nbformat_minor": 2
}
