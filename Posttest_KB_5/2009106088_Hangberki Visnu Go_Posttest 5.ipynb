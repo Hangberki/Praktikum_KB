{
 "cells": [
  {
   "cell_type": "markdown",
   "id": "2e78774c",
   "metadata": {},
   "source": [
    "# Praktikum Kecerdasan Buatan - Post-Test 5: Supervised Learning\n",
    "\n",
    "Nama: Hangberki Visnu Go\n",
    "NIM: 2009106088"
   ]
  },
  {
   "cell_type": "markdown",
   "id": "4c0d46d2",
   "metadata": {},
   "source": [
    "# Import Library dan Read Data\n",
    "Import library yang diperlukan"
   ]
  },
  {
   "cell_type": "code",
   "execution_count": 49,
   "id": "9a2162e2",
   "metadata": {},
   "outputs": [],
   "source": [
    "import pandas as pd\n",
    "from sklearn.impute import SimpleImputer\n",
    "from sklearn.model_selection import train_test_split\n",
    "from sklearn.preprocessing import OrdinalEncoder\n",
    "from sklearn.naive_bayes import BernoulliNB\n",
    "from sklearn.neighbors import KNeighborsClassifier"
   ]
  },
  {
   "cell_type": "code",
   "execution_count": 50,
   "id": "fc710074",
   "metadata": {},
   "outputs": [
    {
     "data": {
      "text/html": [
       "<div>\n",
       "<style scoped>\n",
       "    .dataframe tbody tr th:only-of-type {\n",
       "        vertical-align: middle;\n",
       "    }\n",
       "\n",
       "    .dataframe tbody tr th {\n",
       "        vertical-align: top;\n",
       "    }\n",
       "\n",
       "    .dataframe thead th {\n",
       "        text-align: right;\n",
       "    }\n",
       "</style>\n",
       "<table border=\"1\" class=\"dataframe\">\n",
       "  <thead>\n",
       "    <tr style=\"text-align: right;\">\n",
       "      <th></th>\n",
       "      <th>instance_id</th>\n",
       "      <th>artist_name</th>\n",
       "      <th>track_name</th>\n",
       "      <th>popularity</th>\n",
       "      <th>acousticness</th>\n",
       "      <th>danceability</th>\n",
       "      <th>duration_ms</th>\n",
       "      <th>energy</th>\n",
       "      <th>instrumentalness</th>\n",
       "      <th>key</th>\n",
       "      <th>liveness</th>\n",
       "      <th>loudness</th>\n",
       "      <th>mode</th>\n",
       "      <th>speechiness</th>\n",
       "      <th>tempo</th>\n",
       "      <th>obtained_date</th>\n",
       "      <th>valence</th>\n",
       "      <th>music_genre</th>\n",
       "    </tr>\n",
       "  </thead>\n",
       "  <tbody>\n",
       "    <tr>\n",
       "      <th>0</th>\n",
       "      <td>32894.0</td>\n",
       "      <td>Röyksopp</td>\n",
       "      <td>Röyksopp's Night Out</td>\n",
       "      <td>27.0</td>\n",
       "      <td>0.00468</td>\n",
       "      <td>0.652</td>\n",
       "      <td>-1.0</td>\n",
       "      <td>0.941</td>\n",
       "      <td>0.79200</td>\n",
       "      <td>A#</td>\n",
       "      <td>0.115</td>\n",
       "      <td>-5.201</td>\n",
       "      <td>Minor</td>\n",
       "      <td>0.0748</td>\n",
       "      <td>100.889</td>\n",
       "      <td>4-Apr</td>\n",
       "      <td>0.759</td>\n",
       "      <td>Electronic</td>\n",
       "    </tr>\n",
       "    <tr>\n",
       "      <th>1</th>\n",
       "      <td>46652.0</td>\n",
       "      <td>Thievery Corporation</td>\n",
       "      <td>The Shining Path</td>\n",
       "      <td>31.0</td>\n",
       "      <td>0.01270</td>\n",
       "      <td>0.622</td>\n",
       "      <td>218293.0</td>\n",
       "      <td>0.890</td>\n",
       "      <td>0.95000</td>\n",
       "      <td>D</td>\n",
       "      <td>0.124</td>\n",
       "      <td>-7.043</td>\n",
       "      <td>Minor</td>\n",
       "      <td>0.0300</td>\n",
       "      <td>115.00200000000001</td>\n",
       "      <td>4-Apr</td>\n",
       "      <td>0.531</td>\n",
       "      <td>Electronic</td>\n",
       "    </tr>\n",
       "    <tr>\n",
       "      <th>2</th>\n",
       "      <td>30097.0</td>\n",
       "      <td>Dillon Francis</td>\n",
       "      <td>Hurricane</td>\n",
       "      <td>28.0</td>\n",
       "      <td>0.00306</td>\n",
       "      <td>0.620</td>\n",
       "      <td>215613.0</td>\n",
       "      <td>0.755</td>\n",
       "      <td>0.01180</td>\n",
       "      <td>G#</td>\n",
       "      <td>0.534</td>\n",
       "      <td>-4.617</td>\n",
       "      <td>Major</td>\n",
       "      <td>0.0345</td>\n",
       "      <td>127.994</td>\n",
       "      <td>4-Apr</td>\n",
       "      <td>0.333</td>\n",
       "      <td>Electronic</td>\n",
       "    </tr>\n",
       "    <tr>\n",
       "      <th>3</th>\n",
       "      <td>62177.0</td>\n",
       "      <td>Dubloadz</td>\n",
       "      <td>Nitro</td>\n",
       "      <td>34.0</td>\n",
       "      <td>0.02540</td>\n",
       "      <td>0.774</td>\n",
       "      <td>166875.0</td>\n",
       "      <td>0.700</td>\n",
       "      <td>0.00253</td>\n",
       "      <td>C#</td>\n",
       "      <td>0.157</td>\n",
       "      <td>-4.498</td>\n",
       "      <td>Major</td>\n",
       "      <td>0.2390</td>\n",
       "      <td>128.014</td>\n",
       "      <td>4-Apr</td>\n",
       "      <td>0.270</td>\n",
       "      <td>Electronic</td>\n",
       "    </tr>\n",
       "    <tr>\n",
       "      <th>4</th>\n",
       "      <td>24907.0</td>\n",
       "      <td>What So Not</td>\n",
       "      <td>Divide &amp; Conquer</td>\n",
       "      <td>32.0</td>\n",
       "      <td>0.00465</td>\n",
       "      <td>0.638</td>\n",
       "      <td>222369.0</td>\n",
       "      <td>0.587</td>\n",
       "      <td>0.90900</td>\n",
       "      <td>F#</td>\n",
       "      <td>0.157</td>\n",
       "      <td>-6.266</td>\n",
       "      <td>Major</td>\n",
       "      <td>0.0413</td>\n",
       "      <td>145.036</td>\n",
       "      <td>4-Apr</td>\n",
       "      <td>0.323</td>\n",
       "      <td>Electronic</td>\n",
       "    </tr>\n",
       "  </tbody>\n",
       "</table>\n",
       "</div>"
      ],
      "text/plain": [
       "   instance_id           artist_name            track_name  popularity  \\\n",
       "0      32894.0              Röyksopp  Röyksopp's Night Out        27.0   \n",
       "1      46652.0  Thievery Corporation      The Shining Path        31.0   \n",
       "2      30097.0        Dillon Francis             Hurricane        28.0   \n",
       "3      62177.0              Dubloadz                 Nitro        34.0   \n",
       "4      24907.0           What So Not      Divide & Conquer        32.0   \n",
       "\n",
       "   acousticness  danceability  duration_ms  energy  instrumentalness key  \\\n",
       "0       0.00468         0.652         -1.0   0.941           0.79200  A#   \n",
       "1       0.01270         0.622     218293.0   0.890           0.95000   D   \n",
       "2       0.00306         0.620     215613.0   0.755           0.01180  G#   \n",
       "3       0.02540         0.774     166875.0   0.700           0.00253  C#   \n",
       "4       0.00465         0.638     222369.0   0.587           0.90900  F#   \n",
       "\n",
       "   liveness  loudness   mode  speechiness               tempo obtained_date  \\\n",
       "0     0.115    -5.201  Minor       0.0748             100.889         4-Apr   \n",
       "1     0.124    -7.043  Minor       0.0300  115.00200000000001         4-Apr   \n",
       "2     0.534    -4.617  Major       0.0345             127.994         4-Apr   \n",
       "3     0.157    -4.498  Major       0.2390             128.014         4-Apr   \n",
       "4     0.157    -6.266  Major       0.0413             145.036         4-Apr   \n",
       "\n",
       "   valence music_genre  \n",
       "0    0.759  Electronic  \n",
       "1    0.531  Electronic  \n",
       "2    0.333  Electronic  \n",
       "3    0.270  Electronic  \n",
       "4    0.323  Electronic  "
      ]
     },
     "execution_count": 50,
     "metadata": {},
     "output_type": "execute_result"
    }
   ],
   "source": [
    "df = pd.read_csv(\"music_genre.csv\")\n",
    "df.head(5)"
   ]
  },
  {
   "cell_type": "code",
   "execution_count": 51,
   "id": "bd46b8f8",
   "metadata": {},
   "outputs": [],
   "source": [
    "encoder = OrdinalEncoder()"
   ]
  },
  {
   "cell_type": "code",
   "execution_count": 52,
   "id": "f1528341",
   "metadata": {},
   "outputs": [
    {
     "data": {
      "text/html": [
       "<div>\n",
       "<style scoped>\n",
       "    .dataframe tbody tr th:only-of-type {\n",
       "        vertical-align: middle;\n",
       "    }\n",
       "\n",
       "    .dataframe tbody tr th {\n",
       "        vertical-align: top;\n",
       "    }\n",
       "\n",
       "    .dataframe thead th {\n",
       "        text-align: right;\n",
       "    }\n",
       "</style>\n",
       "<table border=\"1\" class=\"dataframe\">\n",
       "  <thead>\n",
       "    <tr style=\"text-align: right;\">\n",
       "      <th></th>\n",
       "      <th>instance_id</th>\n",
       "      <th>artist_name</th>\n",
       "      <th>track_name</th>\n",
       "      <th>popularity</th>\n",
       "      <th>acousticness</th>\n",
       "      <th>danceability</th>\n",
       "      <th>duration_ms</th>\n",
       "      <th>energy</th>\n",
       "      <th>instrumentalness</th>\n",
       "      <th>key</th>\n",
       "      <th>liveness</th>\n",
       "      <th>loudness</th>\n",
       "      <th>mode</th>\n",
       "      <th>speechiness</th>\n",
       "      <th>tempo</th>\n",
       "      <th>obtained_date</th>\n",
       "      <th>valence</th>\n",
       "      <th>music_genre</th>\n",
       "    </tr>\n",
       "  </thead>\n",
       "  <tbody>\n",
       "    <tr>\n",
       "      <th>0</th>\n",
       "      <td>32894.0</td>\n",
       "      <td>5029.0</td>\n",
       "      <td>28371.0</td>\n",
       "      <td>27.0</td>\n",
       "      <td>0.00468</td>\n",
       "      <td>0.652</td>\n",
       "      <td>-1.0</td>\n",
       "      <td>0.941</td>\n",
       "      <td>0.79200</td>\n",
       "      <td>1.0</td>\n",
       "      <td>0.115</td>\n",
       "      <td>-5.201</td>\n",
       "      <td>1.0</td>\n",
       "      <td>0.0748</td>\n",
       "      <td>274.0</td>\n",
       "      <td>3.0</td>\n",
       "      <td>0.759</td>\n",
       "      <td>5.0</td>\n",
       "    </tr>\n",
       "    <tr>\n",
       "      <th>1</th>\n",
       "      <td>46652.0</td>\n",
       "      <td>6117.0</td>\n",
       "      <td>34817.0</td>\n",
       "      <td>31.0</td>\n",
       "      <td>0.01270</td>\n",
       "      <td>0.622</td>\n",
       "      <td>218293.0</td>\n",
       "      <td>0.890</td>\n",
       "      <td>0.95000</td>\n",
       "      <td>5.0</td>\n",
       "      <td>0.124</td>\n",
       "      <td>-7.043</td>\n",
       "      <td>1.0</td>\n",
       "      <td>0.0300</td>\n",
       "      <td>4193.0</td>\n",
       "      <td>3.0</td>\n",
       "      <td>0.531</td>\n",
       "      <td>5.0</td>\n",
       "    </tr>\n",
       "    <tr>\n",
       "      <th>2</th>\n",
       "      <td>30097.0</td>\n",
       "      <td>1591.0</td>\n",
       "      <td>15024.0</td>\n",
       "      <td>28.0</td>\n",
       "      <td>0.00306</td>\n",
       "      <td>0.620</td>\n",
       "      <td>215613.0</td>\n",
       "      <td>0.755</td>\n",
       "      <td>0.01180</td>\n",
       "      <td>11.0</td>\n",
       "      <td>0.534</td>\n",
       "      <td>-4.617</td>\n",
       "      <td>0.0</td>\n",
       "      <td>0.0345</td>\n",
       "      <td>8138.0</td>\n",
       "      <td>3.0</td>\n",
       "      <td>0.333</td>\n",
       "      <td>5.0</td>\n",
       "    </tr>\n",
       "    <tr>\n",
       "      <th>3</th>\n",
       "      <td>62177.0</td>\n",
       "      <td>1707.0</td>\n",
       "      <td>23372.0</td>\n",
       "      <td>34.0</td>\n",
       "      <td>0.02540</td>\n",
       "      <td>0.774</td>\n",
       "      <td>166875.0</td>\n",
       "      <td>0.700</td>\n",
       "      <td>0.00253</td>\n",
       "      <td>4.0</td>\n",
       "      <td>0.157</td>\n",
       "      <td>-4.498</td>\n",
       "      <td>0.0</td>\n",
       "      <td>0.2390</td>\n",
       "      <td>8158.0</td>\n",
       "      <td>3.0</td>\n",
       "      <td>0.270</td>\n",
       "      <td>5.0</td>\n",
       "    </tr>\n",
       "    <tr>\n",
       "      <th>4</th>\n",
       "      <td>24907.0</td>\n",
       "      <td>6519.0</td>\n",
       "      <td>8649.0</td>\n",
       "      <td>32.0</td>\n",
       "      <td>0.00465</td>\n",
       "      <td>0.638</td>\n",
       "      <td>222369.0</td>\n",
       "      <td>0.587</td>\n",
       "      <td>0.90900</td>\n",
       "      <td>9.0</td>\n",
       "      <td>0.157</td>\n",
       "      <td>-6.266</td>\n",
       "      <td>0.0</td>\n",
       "      <td>0.0413</td>\n",
       "      <td>13021.0</td>\n",
       "      <td>3.0</td>\n",
       "      <td>0.323</td>\n",
       "      <td>5.0</td>\n",
       "    </tr>\n",
       "    <tr>\n",
       "      <th>...</th>\n",
       "      <td>...</td>\n",
       "      <td>...</td>\n",
       "      <td>...</td>\n",
       "      <td>...</td>\n",
       "      <td>...</td>\n",
       "      <td>...</td>\n",
       "      <td>...</td>\n",
       "      <td>...</td>\n",
       "      <td>...</td>\n",
       "      <td>...</td>\n",
       "      <td>...</td>\n",
       "      <td>...</td>\n",
       "      <td>...</td>\n",
       "      <td>...</td>\n",
       "      <td>...</td>\n",
       "      <td>...</td>\n",
       "      <td>...</td>\n",
       "      <td>...</td>\n",
       "    </tr>\n",
       "    <tr>\n",
       "      <th>50000</th>\n",
       "      <td>58878.0</td>\n",
       "      <td>492.0</td>\n",
       "      <td>12067.0</td>\n",
       "      <td>59.0</td>\n",
       "      <td>0.03340</td>\n",
       "      <td>0.913</td>\n",
       "      <td>-1.0</td>\n",
       "      <td>0.574</td>\n",
       "      <td>0.00000</td>\n",
       "      <td>4.0</td>\n",
       "      <td>0.119</td>\n",
       "      <td>-7.022</td>\n",
       "      <td>0.0</td>\n",
       "      <td>0.2980</td>\n",
       "      <td>28848.0</td>\n",
       "      <td>3.0</td>\n",
       "      <td>0.330</td>\n",
       "      <td>6.0</td>\n",
       "    </tr>\n",
       "    <tr>\n",
       "      <th>50001</th>\n",
       "      <td>43557.0</td>\n",
       "      <td>4980.0</td>\n",
       "      <td>9246.0</td>\n",
       "      <td>72.0</td>\n",
       "      <td>0.15700</td>\n",
       "      <td>0.709</td>\n",
       "      <td>251860.0</td>\n",
       "      <td>0.362</td>\n",
       "      <td>0.00000</td>\n",
       "      <td>2.0</td>\n",
       "      <td>0.109</td>\n",
       "      <td>-9.814</td>\n",
       "      <td>0.0</td>\n",
       "      <td>0.0550</td>\n",
       "      <td>6307.0</td>\n",
       "      <td>3.0</td>\n",
       "      <td>0.113</td>\n",
       "      <td>6.0</td>\n",
       "    </tr>\n",
       "    <tr>\n",
       "      <th>50002</th>\n",
       "      <td>39767.0</td>\n",
       "      <td>614.0</td>\n",
       "      <td>20566.0</td>\n",
       "      <td>51.0</td>\n",
       "      <td>0.00597</td>\n",
       "      <td>0.693</td>\n",
       "      <td>189483.0</td>\n",
       "      <td>0.763</td>\n",
       "      <td>0.00000</td>\n",
       "      <td>5.0</td>\n",
       "      <td>0.143</td>\n",
       "      <td>-5.443</td>\n",
       "      <td>0.0</td>\n",
       "      <td>0.1460</td>\n",
       "      <td>9090.0</td>\n",
       "      <td>3.0</td>\n",
       "      <td>0.395</td>\n",
       "      <td>6.0</td>\n",
       "    </tr>\n",
       "    <tr>\n",
       "      <th>50003</th>\n",
       "      <td>57944.0</td>\n",
       "      <td>6104.0</td>\n",
       "      <td>29399.0</td>\n",
       "      <td>65.0</td>\n",
       "      <td>0.08310</td>\n",
       "      <td>0.782</td>\n",
       "      <td>262773.0</td>\n",
       "      <td>0.472</td>\n",
       "      <td>0.00000</td>\n",
       "      <td>10.0</td>\n",
       "      <td>0.106</td>\n",
       "      <td>-5.016</td>\n",
       "      <td>1.0</td>\n",
       "      <td>0.0441</td>\n",
       "      <td>21736.0</td>\n",
       "      <td>3.0</td>\n",
       "      <td>0.354</td>\n",
       "      <td>6.0</td>\n",
       "    </tr>\n",
       "    <tr>\n",
       "      <th>50004</th>\n",
       "      <td>63470.0</td>\n",
       "      <td>4196.0</td>\n",
       "      <td>14448.0</td>\n",
       "      <td>67.0</td>\n",
       "      <td>0.10200</td>\n",
       "      <td>0.862</td>\n",
       "      <td>267267.0</td>\n",
       "      <td>0.642</td>\n",
       "      <td>0.00000</td>\n",
       "      <td>9.0</td>\n",
       "      <td>0.272</td>\n",
       "      <td>-13.652</td>\n",
       "      <td>1.0</td>\n",
       "      <td>0.1010</td>\n",
       "      <td>29157.0</td>\n",
       "      <td>3.0</td>\n",
       "      <td>0.765</td>\n",
       "      <td>6.0</td>\n",
       "    </tr>\n",
       "  </tbody>\n",
       "</table>\n",
       "<p>50005 rows × 18 columns</p>\n",
       "</div>"
      ],
      "text/plain": [
       "       instance_id  artist_name  track_name  popularity  acousticness  \\\n",
       "0          32894.0       5029.0     28371.0        27.0       0.00468   \n",
       "1          46652.0       6117.0     34817.0        31.0       0.01270   \n",
       "2          30097.0       1591.0     15024.0        28.0       0.00306   \n",
       "3          62177.0       1707.0     23372.0        34.0       0.02540   \n",
       "4          24907.0       6519.0      8649.0        32.0       0.00465   \n",
       "...            ...          ...         ...         ...           ...   \n",
       "50000      58878.0        492.0     12067.0        59.0       0.03340   \n",
       "50001      43557.0       4980.0      9246.0        72.0       0.15700   \n",
       "50002      39767.0        614.0     20566.0        51.0       0.00597   \n",
       "50003      57944.0       6104.0     29399.0        65.0       0.08310   \n",
       "50004      63470.0       4196.0     14448.0        67.0       0.10200   \n",
       "\n",
       "       danceability  duration_ms  energy  instrumentalness   key  liveness  \\\n",
       "0             0.652         -1.0   0.941           0.79200   1.0     0.115   \n",
       "1             0.622     218293.0   0.890           0.95000   5.0     0.124   \n",
       "2             0.620     215613.0   0.755           0.01180  11.0     0.534   \n",
       "3             0.774     166875.0   0.700           0.00253   4.0     0.157   \n",
       "4             0.638     222369.0   0.587           0.90900   9.0     0.157   \n",
       "...             ...          ...     ...               ...   ...       ...   \n",
       "50000         0.913         -1.0   0.574           0.00000   4.0     0.119   \n",
       "50001         0.709     251860.0   0.362           0.00000   2.0     0.109   \n",
       "50002         0.693     189483.0   0.763           0.00000   5.0     0.143   \n",
       "50003         0.782     262773.0   0.472           0.00000  10.0     0.106   \n",
       "50004         0.862     267267.0   0.642           0.00000   9.0     0.272   \n",
       "\n",
       "       loudness  mode  speechiness    tempo  obtained_date  valence  \\\n",
       "0        -5.201   1.0       0.0748    274.0            3.0    0.759   \n",
       "1        -7.043   1.0       0.0300   4193.0            3.0    0.531   \n",
       "2        -4.617   0.0       0.0345   8138.0            3.0    0.333   \n",
       "3        -4.498   0.0       0.2390   8158.0            3.0    0.270   \n",
       "4        -6.266   0.0       0.0413  13021.0            3.0    0.323   \n",
       "...         ...   ...          ...      ...            ...      ...   \n",
       "50000    -7.022   0.0       0.2980  28848.0            3.0    0.330   \n",
       "50001    -9.814   0.0       0.0550   6307.0            3.0    0.113   \n",
       "50002    -5.443   0.0       0.1460   9090.0            3.0    0.395   \n",
       "50003    -5.016   1.0       0.0441  21736.0            3.0    0.354   \n",
       "50004   -13.652   1.0       0.1010  29157.0            3.0    0.765   \n",
       "\n",
       "       music_genre  \n",
       "0              5.0  \n",
       "1              5.0  \n",
       "2              5.0  \n",
       "3              5.0  \n",
       "4              5.0  \n",
       "...            ...  \n",
       "50000          6.0  \n",
       "50001          6.0  \n",
       "50002          6.0  \n",
       "50003          6.0  \n",
       "50004          6.0  \n",
       "\n",
       "[50005 rows x 18 columns]"
      ]
     },
     "execution_count": 52,
     "metadata": {},
     "output_type": "execute_result"
    }
   ],
   "source": [
    "df[\"artist_name\"] = encoder.fit_transform(df[[\"artist_name\"]])\n",
    "df[\"track_name\"] = encoder.fit_transform(df[[\"track_name\"]])\n",
    "df[\"popularity\"] = encoder.fit_transform(df[[\"popularity\"]])\n",
    "df[\"key\"] = encoder.fit_transform(df[[\"key\"]])\n",
    "df[\"mode\"] = encoder.fit_transform(df[[\"mode\"]])\n",
    "df[\"tempo\"] = encoder.fit_transform(df[[\"tempo\"]])\n",
    "df[\"obtained_date\"] = encoder.fit_transform(df[[\"obtained_date\"]])\n",
    "df[\"music_genre\"] = encoder.fit_transform(df[[\"music_genre\"]])\n",
    "df"
   ]
  },
  {
   "cell_type": "markdown",
   "id": "018cbc3c",
   "metadata": {},
   "source": [
    "# Data Cleaning: null\n",
    "Melihat kolom mana saja yang memiliki data null"
   ]
  },
  {
   "cell_type": "code",
   "execution_count": 53,
   "id": "c35b294e",
   "metadata": {},
   "outputs": [
    {
     "data": {
      "text/plain": [
       "instance_id         5\n",
       "artist_name         5\n",
       "track_name          5\n",
       "popularity          5\n",
       "acousticness        5\n",
       "danceability        5\n",
       "duration_ms         5\n",
       "energy              5\n",
       "instrumentalness    5\n",
       "key                 5\n",
       "liveness            5\n",
       "loudness            5\n",
       "mode                5\n",
       "speechiness         5\n",
       "tempo               5\n",
       "obtained_date       5\n",
       "valence             5\n",
       "music_genre         5\n",
       "dtype: int64"
      ]
     },
     "execution_count": 53,
     "metadata": {},
     "output_type": "execute_result"
    }
   ],
   "source": [
    "df.isna().sum()"
   ]
  },
  {
   "cell_type": "code",
   "execution_count": 54,
   "id": "a62e293d",
   "metadata": {},
   "outputs": [],
   "source": [
    "imputer_mean = SimpleImputer(strategy=\"mean\")\n",
    "imputer_most_frequent = SimpleImputer(strategy=\"most_frequent\")\n",
    "df[\"instance_id\"] = imputer_mean.fit_transform(df[[\"instance_id\"]])\n",
    "df[\"track_name\"] = imputer_most_frequent.fit_transform(df[[\"track_name\"]])\n",
    "df[\"popularity\"] = imputer_most_frequent.fit_transform(df[[\"popularity\"]])\n",
    "df[\"acousticness\"] = imputer_most_frequent.fit_transform(df[[\"acousticness\"]])\n",
    "df[\"danceability\"] = imputer_most_frequent.fit_transform(df[[\"danceability\"]])\n",
    "df[\"duration_ms\"] = imputer_mean.fit_transform(df[[\"duration_ms\"]])\n",
    "df[\"energy\"] = imputer_most_frequent.fit_transform(df[[\"energy\"]])\n",
    "df[\"instrumentalness\"] = imputer_most_frequent.fit_transform(df[[\"instrumentalness\"]])\n",
    "df[\"key\"] = imputer_most_frequent.fit_transform(df[[\"key\"]])\n",
    "df[\"liveness\"] = imputer_most_frequent.fit_transform(df[[\"liveness\"]])\n",
    "df[\"loudness\"] = imputer_most_frequent.fit_transform(df[[\"loudness\"]])\n",
    "df[\"speechiness\"] = imputer_most_frequent.fit_transform(df[[\"speechiness\"]])\n",
    "df[\"tempo\"] = imputer_most_frequent.fit_transform(df[[\"tempo\"]])\n",
    "df[\"obtained_date\"] = imputer_most_frequent.fit_transform(df[[\"obtained_date\"]])"
   ]
  },
  {
   "cell_type": "code",
   "execution_count": 55,
   "id": "885d1737",
   "metadata": {},
   "outputs": [
    {
     "data": {
      "text/plain": [
       "instance_id         0\n",
       "artist_name         5\n",
       "track_name          0\n",
       "popularity          0\n",
       "acousticness        0\n",
       "danceability        0\n",
       "duration_ms         0\n",
       "energy              0\n",
       "instrumentalness    0\n",
       "key                 0\n",
       "liveness            0\n",
       "loudness            0\n",
       "mode                5\n",
       "speechiness         0\n",
       "tempo               0\n",
       "obtained_date       0\n",
       "valence             5\n",
       "music_genre         5\n",
       "dtype: int64"
      ]
     },
     "execution_count": 55,
     "metadata": {},
     "output_type": "execute_result"
    }
   ],
   "source": [
    "df.isna().sum()"
   ]
  },
  {
   "cell_type": "markdown",
   "id": "e4acc160",
   "metadata": {},
   "source": [
    "# Encoding Name"
   ]
  },
  {
   "cell_type": "code",
   "execution_count": 64,
   "id": "2b4e640a",
   "metadata": {},
   "outputs": [
    {
     "data": {
      "text/plain": [
       "array([27.0, 31.0, 28.0, 34.0, 32.0, 47.0, 46.0, 43.0, 39.0, 22.0, 30.0,\n",
       "       50.0, 59.0, 29.0, 35.0, 44.0, 33.0, 56.0, 21.0, 48.0, 45.0, 53.0,\n",
       "       63.0, 25.0, 36.0, 37.0, 51.0, 55.0, 49.0, 41.0, 38.0, 52.0, 24.0,\n",
       "       42.0, 26.0, 96.0, 40.0, 23.0, 61.0, 54.0, 66.0, 70.0, 67.0, 60.0,\n",
       "       58.0, 65.0, 69.0, 72.0, 64.0, 62.0, 57.0, 'Negative', 76.0, 20.0,\n",
       "       74.0, 71.0, 84.0, 68.0, 18.0, 82.0, 3.0, 11.0, 17.0, 15.0, 12.0,\n",
       "       10.0, 13.0, 16.0, 14.0, 9.0, 19.0, 8.0, 7.0, 4.0, 2.0, 'Positive',\n",
       "       5.0, 6.0, 79.0, 73.0, 75.0, 78.0, 83.0, 81.0, 80.0, 77.0, 85.0,\n",
       "       97.0, 88.0, 87.0, 86.0, 98.0, 89.0, 93.0, 90.0, 94.0, 91.0, 95.0,\n",
       "       92.0], dtype=object)"
      ]
     },
     "execution_count": 64,
     "metadata": {},
     "output_type": "execute_result"
    }
   ],
   "source": [
    "df[\"stroke\"] = df['popularity'].astype(\"object\")\n",
    "df[\"stroke\"].replace(1, \"Positive\", inplace=True)\n",
    "df[\"stroke\"].replace(0, \"Negative\", inplace=True)\n",
    "df[\"stroke\"].unique()"
   ]
  },
  {
   "cell_type": "markdown",
   "id": "ab79b2e8",
   "metadata": {},
   "source": [
    "# Supervised Learning\n",
    "\n",
    "## K-Nearest Neighbors"
   ]
  },
  {
   "cell_type": "code",
   "execution_count": 69,
   "id": "7603396b",
   "metadata": {},
   "outputs": [],
   "source": [
    "x_data = df[['acousticness', 'danceability', 'duration_ms', 'energy',\n",
    "       'instrumentalness', 'liveness', 'loudness',\n",
    "       'speechiness', 'tempo']]\n",
    "y_label = df['popularity']"
   ]
  },
  {
   "cell_type": "code",
   "execution_count": 70,
   "id": "05af9d23",
   "metadata": {},
   "outputs": [],
   "source": [
    "x_train, x_test, y_train, y_test = train_test_split(x_data, y_label, test_size=0.3)"
   ]
  },
  {
   "cell_type": "code",
   "execution_count": 71,
   "id": "6b2b584b",
   "metadata": {},
   "outputs": [],
   "source": [
    "knn = KNeighborsClassifier(n_neighbors=4)"
   ]
  },
  {
   "cell_type": "code",
   "execution_count": 72,
   "id": "4a157a2e",
   "metadata": {},
   "outputs": [
    {
     "data": {
      "text/html": [
       "<style>#sk-container-id-1 {color: black;background-color: white;}#sk-container-id-1 pre{padding: 0;}#sk-container-id-1 div.sk-toggleable {background-color: white;}#sk-container-id-1 label.sk-toggleable__label {cursor: pointer;display: block;width: 100%;margin-bottom: 0;padding: 0.3em;box-sizing: border-box;text-align: center;}#sk-container-id-1 label.sk-toggleable__label-arrow:before {content: \"▸\";float: left;margin-right: 0.25em;color: #696969;}#sk-container-id-1 label.sk-toggleable__label-arrow:hover:before {color: black;}#sk-container-id-1 div.sk-estimator:hover label.sk-toggleable__label-arrow:before {color: black;}#sk-container-id-1 div.sk-toggleable__content {max-height: 0;max-width: 0;overflow: hidden;text-align: left;background-color: #f0f8ff;}#sk-container-id-1 div.sk-toggleable__content pre {margin: 0.2em;color: black;border-radius: 0.25em;background-color: #f0f8ff;}#sk-container-id-1 input.sk-toggleable__control:checked~div.sk-toggleable__content {max-height: 200px;max-width: 100%;overflow: auto;}#sk-container-id-1 input.sk-toggleable__control:checked~label.sk-toggleable__label-arrow:before {content: \"▾\";}#sk-container-id-1 div.sk-estimator input.sk-toggleable__control:checked~label.sk-toggleable__label {background-color: #d4ebff;}#sk-container-id-1 div.sk-label input.sk-toggleable__control:checked~label.sk-toggleable__label {background-color: #d4ebff;}#sk-container-id-1 input.sk-hidden--visually {border: 0;clip: rect(1px 1px 1px 1px);clip: rect(1px, 1px, 1px, 1px);height: 1px;margin: -1px;overflow: hidden;padding: 0;position: absolute;width: 1px;}#sk-container-id-1 div.sk-estimator {font-family: monospace;background-color: #f0f8ff;border: 1px dotted black;border-radius: 0.25em;box-sizing: border-box;margin-bottom: 0.5em;}#sk-container-id-1 div.sk-estimator:hover {background-color: #d4ebff;}#sk-container-id-1 div.sk-parallel-item::after {content: \"\";width: 100%;border-bottom: 1px solid gray;flex-grow: 1;}#sk-container-id-1 div.sk-label:hover label.sk-toggleable__label {background-color: #d4ebff;}#sk-container-id-1 div.sk-serial::before {content: \"\";position: absolute;border-left: 1px solid gray;box-sizing: border-box;top: 0;bottom: 0;left: 50%;z-index: 0;}#sk-container-id-1 div.sk-serial {display: flex;flex-direction: column;align-items: center;background-color: white;padding-right: 0.2em;padding-left: 0.2em;position: relative;}#sk-container-id-1 div.sk-item {position: relative;z-index: 1;}#sk-container-id-1 div.sk-parallel {display: flex;align-items: stretch;justify-content: center;background-color: white;position: relative;}#sk-container-id-1 div.sk-item::before, #sk-container-id-1 div.sk-parallel-item::before {content: \"\";position: absolute;border-left: 1px solid gray;box-sizing: border-box;top: 0;bottom: 0;left: 50%;z-index: -1;}#sk-container-id-1 div.sk-parallel-item {display: flex;flex-direction: column;z-index: 1;position: relative;background-color: white;}#sk-container-id-1 div.sk-parallel-item:first-child::after {align-self: flex-end;width: 50%;}#sk-container-id-1 div.sk-parallel-item:last-child::after {align-self: flex-start;width: 50%;}#sk-container-id-1 div.sk-parallel-item:only-child::after {width: 0;}#sk-container-id-1 div.sk-dashed-wrapped {border: 1px dashed gray;margin: 0 0.4em 0.5em 0.4em;box-sizing: border-box;padding-bottom: 0.4em;background-color: white;}#sk-container-id-1 div.sk-label label {font-family: monospace;font-weight: bold;display: inline-block;line-height: 1.2em;}#sk-container-id-1 div.sk-label-container {text-align: center;}#sk-container-id-1 div.sk-container {/* jupyter's `normalize.less` sets `[hidden] { display: none; }` but bootstrap.min.css set `[hidden] { display: none !important; }` so we also need the `!important` here to be able to override the default hidden behavior on the sphinx rendered scikit-learn.org. See: https://github.com/scikit-learn/scikit-learn/issues/21755 */display: inline-block !important;position: relative;}#sk-container-id-1 div.sk-text-repr-fallback {display: none;}</style><div id=\"sk-container-id-1\" class=\"sk-top-container\"><div class=\"sk-text-repr-fallback\"><pre>KNeighborsClassifier(n_neighbors=4)</pre><b>In a Jupyter environment, please rerun this cell to show the HTML representation or trust the notebook. <br />On GitHub, the HTML representation is unable to render, please try loading this page with nbviewer.org.</b></div><div class=\"sk-container\" hidden><div class=\"sk-item\"><div class=\"sk-estimator sk-toggleable\"><input class=\"sk-toggleable__control sk-hidden--visually\" id=\"sk-estimator-id-1\" type=\"checkbox\" checked><label for=\"sk-estimator-id-1\" class=\"sk-toggleable__label sk-toggleable__label-arrow\">KNeighborsClassifier</label><div class=\"sk-toggleable__content\"><pre>KNeighborsClassifier(n_neighbors=4)</pre></div></div></div></div></div>"
      ],
      "text/plain": [
       "KNeighborsClassifier(n_neighbors=4)"
      ]
     },
     "execution_count": 72,
     "metadata": {},
     "output_type": "execute_result"
    }
   ],
   "source": [
    "knn.fit(x_train, y_train)"
   ]
  },
  {
   "cell_type": "code",
   "execution_count": 73,
   "id": "78ef13b7",
   "metadata": {},
   "outputs": [
    {
     "data": {
      "text/plain": [
       "0.020863884815357954"
      ]
     },
     "execution_count": 73,
     "metadata": {},
     "output_type": "execute_result"
    }
   ],
   "source": [
    "knn_score = knn.score(x_test, y_test)\n",
    "knn_score"
   ]
  },
  {
   "cell_type": "markdown",
   "id": "b172133a",
   "metadata": {},
   "source": [
    "## Bernoulli Naïve Bayes"
   ]
  },
  {
   "cell_type": "code",
   "execution_count": 74,
   "id": "a3e1ae35",
   "metadata": {},
   "outputs": [],
   "source": [
    "x_train, x_test, y_train, y_test = train_test_split(x_data, y_label, test_size=0.3)"
   ]
  },
  {
   "cell_type": "code",
   "execution_count": 75,
   "id": "4fb1dd32",
   "metadata": {},
   "outputs": [],
   "source": [
    "bernoulli = BernoulliNB()"
   ]
  },
  {
   "cell_type": "code",
   "execution_count": 76,
   "id": "ab6642d2",
   "metadata": {},
   "outputs": [
    {
     "data": {
      "text/html": [
       "<style>#sk-container-id-2 {color: black;background-color: white;}#sk-container-id-2 pre{padding: 0;}#sk-container-id-2 div.sk-toggleable {background-color: white;}#sk-container-id-2 label.sk-toggleable__label {cursor: pointer;display: block;width: 100%;margin-bottom: 0;padding: 0.3em;box-sizing: border-box;text-align: center;}#sk-container-id-2 label.sk-toggleable__label-arrow:before {content: \"▸\";float: left;margin-right: 0.25em;color: #696969;}#sk-container-id-2 label.sk-toggleable__label-arrow:hover:before {color: black;}#sk-container-id-2 div.sk-estimator:hover label.sk-toggleable__label-arrow:before {color: black;}#sk-container-id-2 div.sk-toggleable__content {max-height: 0;max-width: 0;overflow: hidden;text-align: left;background-color: #f0f8ff;}#sk-container-id-2 div.sk-toggleable__content pre {margin: 0.2em;color: black;border-radius: 0.25em;background-color: #f0f8ff;}#sk-container-id-2 input.sk-toggleable__control:checked~div.sk-toggleable__content {max-height: 200px;max-width: 100%;overflow: auto;}#sk-container-id-2 input.sk-toggleable__control:checked~label.sk-toggleable__label-arrow:before {content: \"▾\";}#sk-container-id-2 div.sk-estimator input.sk-toggleable__control:checked~label.sk-toggleable__label {background-color: #d4ebff;}#sk-container-id-2 div.sk-label input.sk-toggleable__control:checked~label.sk-toggleable__label {background-color: #d4ebff;}#sk-container-id-2 input.sk-hidden--visually {border: 0;clip: rect(1px 1px 1px 1px);clip: rect(1px, 1px, 1px, 1px);height: 1px;margin: -1px;overflow: hidden;padding: 0;position: absolute;width: 1px;}#sk-container-id-2 div.sk-estimator {font-family: monospace;background-color: #f0f8ff;border: 1px dotted black;border-radius: 0.25em;box-sizing: border-box;margin-bottom: 0.5em;}#sk-container-id-2 div.sk-estimator:hover {background-color: #d4ebff;}#sk-container-id-2 div.sk-parallel-item::after {content: \"\";width: 100%;border-bottom: 1px solid gray;flex-grow: 1;}#sk-container-id-2 div.sk-label:hover label.sk-toggleable__label {background-color: #d4ebff;}#sk-container-id-2 div.sk-serial::before {content: \"\";position: absolute;border-left: 1px solid gray;box-sizing: border-box;top: 0;bottom: 0;left: 50%;z-index: 0;}#sk-container-id-2 div.sk-serial {display: flex;flex-direction: column;align-items: center;background-color: white;padding-right: 0.2em;padding-left: 0.2em;position: relative;}#sk-container-id-2 div.sk-item {position: relative;z-index: 1;}#sk-container-id-2 div.sk-parallel {display: flex;align-items: stretch;justify-content: center;background-color: white;position: relative;}#sk-container-id-2 div.sk-item::before, #sk-container-id-2 div.sk-parallel-item::before {content: \"\";position: absolute;border-left: 1px solid gray;box-sizing: border-box;top: 0;bottom: 0;left: 50%;z-index: -1;}#sk-container-id-2 div.sk-parallel-item {display: flex;flex-direction: column;z-index: 1;position: relative;background-color: white;}#sk-container-id-2 div.sk-parallel-item:first-child::after {align-self: flex-end;width: 50%;}#sk-container-id-2 div.sk-parallel-item:last-child::after {align-self: flex-start;width: 50%;}#sk-container-id-2 div.sk-parallel-item:only-child::after {width: 0;}#sk-container-id-2 div.sk-dashed-wrapped {border: 1px dashed gray;margin: 0 0.4em 0.5em 0.4em;box-sizing: border-box;padding-bottom: 0.4em;background-color: white;}#sk-container-id-2 div.sk-label label {font-family: monospace;font-weight: bold;display: inline-block;line-height: 1.2em;}#sk-container-id-2 div.sk-label-container {text-align: center;}#sk-container-id-2 div.sk-container {/* jupyter's `normalize.less` sets `[hidden] { display: none; }` but bootstrap.min.css set `[hidden] { display: none !important; }` so we also need the `!important` here to be able to override the default hidden behavior on the sphinx rendered scikit-learn.org. See: https://github.com/scikit-learn/scikit-learn/issues/21755 */display: inline-block !important;position: relative;}#sk-container-id-2 div.sk-text-repr-fallback {display: none;}</style><div id=\"sk-container-id-2\" class=\"sk-top-container\"><div class=\"sk-text-repr-fallback\"><pre>BernoulliNB()</pre><b>In a Jupyter environment, please rerun this cell to show the HTML representation or trust the notebook. <br />On GitHub, the HTML representation is unable to render, please try loading this page with nbviewer.org.</b></div><div class=\"sk-container\" hidden><div class=\"sk-item\"><div class=\"sk-estimator sk-toggleable\"><input class=\"sk-toggleable__control sk-hidden--visually\" id=\"sk-estimator-id-2\" type=\"checkbox\" checked><label for=\"sk-estimator-id-2\" class=\"sk-toggleable__label sk-toggleable__label-arrow\">BernoulliNB</label><div class=\"sk-toggleable__content\"><pre>BernoulliNB()</pre></div></div></div></div></div>"
      ],
      "text/plain": [
       "BernoulliNB()"
      ]
     },
     "execution_count": 76,
     "metadata": {},
     "output_type": "execute_result"
    }
   ],
   "source": [
    "bernoulli.fit(x_train, y_train)"
   ]
  },
  {
   "cell_type": "code",
   "execution_count": 77,
   "id": "ad75833e",
   "metadata": {},
   "outputs": [
    {
     "data": {
      "text/plain": [
       "0.030262631649113452"
      ]
     },
     "execution_count": 77,
     "metadata": {},
     "output_type": "execute_result"
    }
   ],
   "source": [
    "bernoulli_score = bernoulli.score(x_test, y_test)\n",
    "bernoulli_score"
   ]
  },
  {
   "cell_type": "markdown",
   "id": "57c5e1c8",
   "metadata": {},
   "source": [
    "\n",
    "## Membandingkan Hasil Algoritma"
   ]
  },
  {
   "cell_type": "code",
   "execution_count": 78,
   "id": "654267e1",
   "metadata": {},
   "outputs": [
    {
     "name": "stdout",
     "output_type": "stream",
     "text": [
      "Skor dari Bernoulli Naïve Bayes lebih besar daripada K-Nearest Neighbors\n",
      "Skor K-Nearest Neighbors\t: 0.020863884815357954\n",
      "Skor Bernoulli Naïve Bayes\t: 0.030262631649113452\n"
     ]
    }
   ],
   "source": [
    "if knn_score > bernoulli_score:\n",
    "    print(\"Skor dari K-Nearest Neighbors lebih besar daripada Bernoulli Naïve Bayes\")\n",
    "elif bernoulli_score > knn_score:\n",
    "    print(\"Skor dari Bernoulli Naïve Bayes lebih besar daripada K-Nearest Neighbors\")\n",
    "else:\n",
    "    print(\"Skor antara K-Nearest Neighbors dan Bernoulli Naïve Bayes adalah sama\")\n",
    "\n",
    "print(f\"Skor K-Nearest Neighbors\\t: {knn_score}\")\n",
    "print(f\"Skor Bernoulli Naïve Bayes\\t: {bernoulli_score}\")"
   ]
  },
  {
   "cell_type": "code",
   "execution_count": null,
   "id": "5b378d09",
   "metadata": {},
   "outputs": [],
   "source": []
  }
 ],
 "metadata": {
  "kernelspec": {
   "display_name": "Python 3 (ipykernel)",
   "language": "python",
   "name": "python3"
  },
  "language_info": {
   "codemirror_mode": {
    "name": "ipython",
    "version": 3
   },
   "file_extension": ".py",
   "mimetype": "text/x-python",
   "name": "python",
   "nbconvert_exporter": "python",
   "pygments_lexer": "ipython3",
   "version": "3.10.7"
  }
 },
 "nbformat": 4,
 "nbformat_minor": 5
}
